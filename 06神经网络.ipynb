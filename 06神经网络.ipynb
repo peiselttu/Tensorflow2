{
  "nbformat": 4,
  "nbformat_minor": 0,
  "metadata": {
    "colab": {
      "name": "06神经网络.ipynb",
      "provenance": [],
      "collapsed_sections": [],
      "authorship_tag": "ABX9TyMaz+ReUxgc2VZPW5XDC5Q1",
      "include_colab_link": true
    },
    "kernelspec": {
      "name": "python3",
      "display_name": "Python 3"
    },
    "accelerator": "GPU"
  },
  "cells": [
    {
      "cell_type": "markdown",
      "metadata": {
        "id": "view-in-github",
        "colab_type": "text"
      },
      "source": [
        "<a href=\"https://colab.research.google.com/github/peiselttu/Tensorflow2/blob/master/06%E7%A5%9E%E7%BB%8F%E7%BD%91%E7%BB%9C.ipynb\" target=\"_parent\"><img src=\"https://colab.research.google.com/assets/colab-badge.svg\" alt=\"Open In Colab\"/></a>"
      ]
    },
    {
      "cell_type": "code",
      "metadata": {
        "id": "7nrSbc3JXXn3",
        "colab_type": "code",
        "colab": {}
      },
      "source": [
        "%tensorflow_version 2.x"
      ],
      "execution_count": 0,
      "outputs": []
    },
    {
      "cell_type": "code",
      "metadata": {
        "id": "QJTHS09JXhNS",
        "colab_type": "code",
        "colab": {
          "base_uri": "https://localhost:8080/",
          "height": 72
        },
        "outputId": "c08794d0-3e73-42fb-95de-54f76b21891a"
      },
      "source": [
        "import numpy as np\n",
        "import tensorflow as tf\n",
        "import tensorflow \n",
        "import pandas as pd\n",
        "import matplotlib.pyplot as plt\n",
        "import seaborn as sns\n",
        "import tensorflow.keras as keras"
      ],
      "execution_count": 2,
      "outputs": [
        {
          "output_type": "stream",
          "text": [
            "/usr/local/lib/python3.6/dist-packages/statsmodels/tools/_testing.py:19: FutureWarning: pandas.util.testing is deprecated. Use the functions in the public API at pandas.testing instead.\n",
            "  import pandas.util.testing as tm\n"
          ],
          "name": "stderr"
        }
      ]
    },
    {
      "cell_type": "code",
      "metadata": {
        "id": "HWsR0CfOXrQt",
        "colab_type": "code",
        "colab": {}
      },
      "source": [
        "### implement the fully connected layer based on tensor\n",
        "x=tf.random.normal([2,784])\n",
        "w1=tf.Variable(tf.random.truncated_normal([784,256],stddev=0.1))\n",
        "b1=tf.Variable(tf.zeros([256]))\n",
        "o=tf.matmul(x,w1)+b1\n",
        "o=tf.nn.relu(o)"
      ],
      "execution_count": 0,
      "outputs": []
    },
    {
      "cell_type": "code",
      "metadata": {
        "id": "5vbQM2NfY9Wm",
        "colab_type": "code",
        "colab": {}
      },
      "source": [
        "# implement the fully connected layer based layers\n",
        "from tensorflow.keras import layers\n",
        "x=tf.random.normal([2,784])\n",
        "fc=layers.Dense(256,activation=tf.nn.relu)\n",
        "o1=fc(x)"
      ],
      "execution_count": 0,
      "outputs": []
    },
    {
      "cell_type": "code",
      "metadata": {
        "id": "QxEknLAxZl2c",
        "colab_type": "code",
        "colab": {
          "base_uri": "https://localhost:8080/",
          "height": 34
        },
        "outputId": "5914dcbc-9a89-4302-f4c0-e45eb2002dbe"
      },
      "source": [
        "#compare how many predictions are the same \n",
        "tf.reduce_sum(tf.cast(tf.equal(o,o1),tf.float32),axis=1)"
      ],
      "execution_count": 5,
      "outputs": [
        {
          "output_type": "execute_result",
          "data": {
            "text/plain": [
              "<tf.Tensor: shape=(2,), dtype=float32, numpy=array([70., 58.], dtype=float32)>"
            ]
          },
          "metadata": {
            "tags": []
          },
          "execution_count": 5
        }
      ]
    },
    {
      "cell_type": "code",
      "metadata": {
        "id": "mW1eDuVkZyUm",
        "colab_type": "code",
        "colab": {
          "base_uri": "https://localhost:8080/",
          "height": 538
        },
        "outputId": "8c1e6246-15ee-4bfe-e4c0-144525ba2bc6"
      },
      "source": [
        "# get all the trainable_variables\n",
        "fc.trainable_variables"
      ],
      "execution_count": 6,
      "outputs": [
        {
          "output_type": "execute_result",
          "data": {
            "text/plain": [
              "[<tf.Variable 'dense/kernel:0' shape=(784, 256) dtype=float32, numpy=\n",
              " array([[-0.06248288,  0.00162921,  0.04088121, ..., -0.07007112,\n",
              "          0.02104291,  0.06621593],\n",
              "        [-0.02862496,  0.04280763, -0.03707564, ...,  0.05395819,\n",
              "          0.03782722, -0.02110876],\n",
              "        [ 0.01333705,  0.04952757, -0.06538668, ..., -0.06369653,\n",
              "          0.06858237,  0.00069925],\n",
              "        ...,\n",
              "        [ 0.04483309, -0.01101432, -0.03840306, ..., -0.06207711,\n",
              "          0.03408186, -0.01261158],\n",
              "        [-0.01335804, -0.05256402,  0.04829506, ...,  0.04260093,\n",
              "         -0.00780836,  0.07257681],\n",
              "        [ 0.05240445,  0.0588973 , -0.01327592, ...,  0.03298789,\n",
              "          0.03782329, -0.03137102]], dtype=float32)>,\n",
              " <tf.Variable 'dense/bias:0' shape=(256,) dtype=float32, numpy=\n",
              " array([0., 0., 0., 0., 0., 0., 0., 0., 0., 0., 0., 0., 0., 0., 0., 0., 0.,\n",
              "        0., 0., 0., 0., 0., 0., 0., 0., 0., 0., 0., 0., 0., 0., 0., 0., 0.,\n",
              "        0., 0., 0., 0., 0., 0., 0., 0., 0., 0., 0., 0., 0., 0., 0., 0., 0.,\n",
              "        0., 0., 0., 0., 0., 0., 0., 0., 0., 0., 0., 0., 0., 0., 0., 0., 0.,\n",
              "        0., 0., 0., 0., 0., 0., 0., 0., 0., 0., 0., 0., 0., 0., 0., 0., 0.,\n",
              "        0., 0., 0., 0., 0., 0., 0., 0., 0., 0., 0., 0., 0., 0., 0., 0., 0.,\n",
              "        0., 0., 0., 0., 0., 0., 0., 0., 0., 0., 0., 0., 0., 0., 0., 0., 0.,\n",
              "        0., 0., 0., 0., 0., 0., 0., 0., 0., 0., 0., 0., 0., 0., 0., 0., 0.,\n",
              "        0., 0., 0., 0., 0., 0., 0., 0., 0., 0., 0., 0., 0., 0., 0., 0., 0.,\n",
              "        0., 0., 0., 0., 0., 0., 0., 0., 0., 0., 0., 0., 0., 0., 0., 0., 0.,\n",
              "        0., 0., 0., 0., 0., 0., 0., 0., 0., 0., 0., 0., 0., 0., 0., 0., 0.,\n",
              "        0., 0., 0., 0., 0., 0., 0., 0., 0., 0., 0., 0., 0., 0., 0., 0., 0.,\n",
              "        0., 0., 0., 0., 0., 0., 0., 0., 0., 0., 0., 0., 0., 0., 0., 0., 0.,\n",
              "        0., 0., 0., 0., 0., 0., 0., 0., 0., 0., 0., 0., 0., 0., 0., 0., 0.,\n",
              "        0., 0., 0., 0., 0., 0., 0., 0., 0., 0., 0., 0., 0., 0., 0., 0., 0.,\n",
              "        0.], dtype=float32)>]"
            ]
          },
          "metadata": {
            "tags": []
          },
          "execution_count": 6
        }
      ]
    },
    {
      "cell_type": "code",
      "metadata": {
        "id": "NSNvm8OmaSzs",
        "colab_type": "code",
        "colab": {
          "base_uri": "https://localhost:8080/",
          "height": 34
        },
        "outputId": "ab428ec1-b3f9-4f10-f218-ce2f50b5c964"
      },
      "source": [
        "#get the non_trainable_variables\n",
        "fc.non_trainable_variables"
      ],
      "execution_count": 7,
      "outputs": [
        {
          "output_type": "execute_result",
          "data": {
            "text/plain": [
              "[]"
            ]
          },
          "metadata": {
            "tags": []
          },
          "execution_count": 7
        }
      ]
    },
    {
      "cell_type": "code",
      "metadata": {
        "id": "n_NIuxxwalwI",
        "colab_type": "code",
        "colab": {
          "base_uri": "https://localhost:8080/",
          "height": 538
        },
        "outputId": "e4f44660-4872-4551-aa75-563fc5f9bd69"
      },
      "source": [
        "#get all of the variables\n",
        "fc.variables"
      ],
      "execution_count": 8,
      "outputs": [
        {
          "output_type": "execute_result",
          "data": {
            "text/plain": [
              "[<tf.Variable 'dense/kernel:0' shape=(784, 256) dtype=float32, numpy=\n",
              " array([[-0.06248288,  0.00162921,  0.04088121, ..., -0.07007112,\n",
              "          0.02104291,  0.06621593],\n",
              "        [-0.02862496,  0.04280763, -0.03707564, ...,  0.05395819,\n",
              "          0.03782722, -0.02110876],\n",
              "        [ 0.01333705,  0.04952757, -0.06538668, ..., -0.06369653,\n",
              "          0.06858237,  0.00069925],\n",
              "        ...,\n",
              "        [ 0.04483309, -0.01101432, -0.03840306, ..., -0.06207711,\n",
              "          0.03408186, -0.01261158],\n",
              "        [-0.01335804, -0.05256402,  0.04829506, ...,  0.04260093,\n",
              "         -0.00780836,  0.07257681],\n",
              "        [ 0.05240445,  0.0588973 , -0.01327592, ...,  0.03298789,\n",
              "          0.03782329, -0.03137102]], dtype=float32)>,\n",
              " <tf.Variable 'dense/bias:0' shape=(256,) dtype=float32, numpy=\n",
              " array([0., 0., 0., 0., 0., 0., 0., 0., 0., 0., 0., 0., 0., 0., 0., 0., 0.,\n",
              "        0., 0., 0., 0., 0., 0., 0., 0., 0., 0., 0., 0., 0., 0., 0., 0., 0.,\n",
              "        0., 0., 0., 0., 0., 0., 0., 0., 0., 0., 0., 0., 0., 0., 0., 0., 0.,\n",
              "        0., 0., 0., 0., 0., 0., 0., 0., 0., 0., 0., 0., 0., 0., 0., 0., 0.,\n",
              "        0., 0., 0., 0., 0., 0., 0., 0., 0., 0., 0., 0., 0., 0., 0., 0., 0.,\n",
              "        0., 0., 0., 0., 0., 0., 0., 0., 0., 0., 0., 0., 0., 0., 0., 0., 0.,\n",
              "        0., 0., 0., 0., 0., 0., 0., 0., 0., 0., 0., 0., 0., 0., 0., 0., 0.,\n",
              "        0., 0., 0., 0., 0., 0., 0., 0., 0., 0., 0., 0., 0., 0., 0., 0., 0.,\n",
              "        0., 0., 0., 0., 0., 0., 0., 0., 0., 0., 0., 0., 0., 0., 0., 0., 0.,\n",
              "        0., 0., 0., 0., 0., 0., 0., 0., 0., 0., 0., 0., 0., 0., 0., 0., 0.,\n",
              "        0., 0., 0., 0., 0., 0., 0., 0., 0., 0., 0., 0., 0., 0., 0., 0., 0.,\n",
              "        0., 0., 0., 0., 0., 0., 0., 0., 0., 0., 0., 0., 0., 0., 0., 0., 0.,\n",
              "        0., 0., 0., 0., 0., 0., 0., 0., 0., 0., 0., 0., 0., 0., 0., 0., 0.,\n",
              "        0., 0., 0., 0., 0., 0., 0., 0., 0., 0., 0., 0., 0., 0., 0., 0., 0.,\n",
              "        0., 0., 0., 0., 0., 0., 0., 0., 0., 0., 0., 0., 0., 0., 0., 0., 0.,\n",
              "        0.], dtype=float32)>]"
            ]
          },
          "metadata": {
            "tags": []
          },
          "execution_count": 8
        }
      ]
    },
    {
      "cell_type": "code",
      "metadata": {
        "id": "Rhn70Iy-apKO",
        "colab_type": "code",
        "colab": {}
      },
      "source": [
        "## 6.3.1 implement based on tensors"
      ],
      "execution_count": 0,
      "outputs": []
    },
    {
      "cell_type": "code",
      "metadata": {
        "id": "HbTrCGjVfLnX",
        "colab_type": "code",
        "colab": {}
      },
      "source": [
        "x=tf.random.normal([4,256])\n",
        "w1=tf.Variable(tf.random.truncated_normal([256,128],stddev=0.1))\n",
        "b1=tf.Variable(tf.zeros([128]))\n",
        "\n",
        "w2=tf.Variable(tf.random.truncated_normal([128,64],stddev=0.1))\n",
        "b2=tf.Variable(tf.zeros([64]))\n",
        "\n",
        "w3=tf.Variable(tf.random.truncated_normal([64,10],stddev=0.1))\n",
        "b3=tf.Variable(tf.zeros([10]))\n",
        "\n",
        "with tf.GradientTape() as tape:\n",
        "  h1=x@w1+b1\n",
        "  h1=tf.nn.relu(h1)\n",
        "\n",
        "  h2=h1@w2+b2\n",
        "  h2=tf.nn.relu(h2)\n",
        "\n",
        "  h3=h2@w3+b3"
      ],
      "execution_count": 0,
      "outputs": []
    },
    {
      "cell_type": "code",
      "metadata": {
        "id": "Vp6uusybghZH",
        "colab_type": "code",
        "colab": {}
      },
      "source": [
        "# implement based on the layers"
      ],
      "execution_count": 0,
      "outputs": []
    },
    {
      "cell_type": "code",
      "metadata": {
        "id": "dFSlrd6mhwfB",
        "colab_type": "code",
        "colab": {}
      },
      "source": [
        "fc1=layers.Dense(256,activation=tf.nn.relu)\n",
        "fc2=layers.Dense(128,activation=tf.nn.relu)\n",
        "fc3=layers.Dense(64,activation=tf.nn.relu)\n",
        "fc4=layers.Dense(10,activation=None)"
      ],
      "execution_count": 0,
      "outputs": []
    },
    {
      "cell_type": "code",
      "metadata": {
        "id": "pJWA7YbLiJNU",
        "colab_type": "code",
        "colab": {
          "base_uri": "https://localhost:8080/",
          "height": 168
        },
        "outputId": "4f760b83-9fb3-4a33-e757-7f2166cd3ebc"
      },
      "source": [
        "h1=fc1(x)\n",
        "h2=fc2(h1)\n",
        "h3=fc3(h2)\n",
        "h4=fc4(h3)\n",
        "print(h4)"
      ],
      "execution_count": 13,
      "outputs": [
        {
          "output_type": "stream",
          "text": [
            "tf.Tensor(\n",
            "[[-0.16152571  0.32028857 -0.5384774  -0.15393184 -0.08211854 -0.03550574\n",
            "   0.17202051  0.26298004 -0.04626617 -0.18716273]\n",
            " [ 0.5111182   0.3726467  -0.65542245 -0.54093295  0.17855161 -0.32078457\n",
            "   0.8095436   0.66014624  0.19322816 -0.43375862]\n",
            " [ 0.2420021   0.43847394 -0.08090597 -0.1803805  -0.18536413  0.2409837\n",
            "   0.49199697  0.836825    0.30339223  0.45759562]\n",
            " [ 0.13474178 -0.63124156 -0.6814934  -1.1029828   0.3851936  -1.361473\n",
            "   0.51860696  0.52438563  0.5952399   0.25399393]], shape=(4, 10), dtype=float32)\n"
          ],
          "name": "stdout"
        }
      ]
    },
    {
      "cell_type": "code",
      "metadata": {
        "id": "tBYZDUkGiTnD",
        "colab_type": "code",
        "colab": {}
      },
      "source": [
        "# or use the Sequential container"
      ],
      "execution_count": 0,
      "outputs": []
    },
    {
      "cell_type": "code",
      "metadata": {
        "id": "zjpsFxD5ieDK",
        "colab_type": "code",
        "colab": {}
      },
      "source": [
        "model=tf.keras.Sequential([fc1,fc2,fc3,fc4])"
      ],
      "execution_count": 0,
      "outputs": []
    },
    {
      "cell_type": "code",
      "metadata": {
        "id": "fMJMCVIpipGz",
        "colab_type": "code",
        "colab": {
          "base_uri": "https://localhost:8080/",
          "height": 168
        },
        "outputId": "b4124041-b1ab-4001-f461-d32973791ffe"
      },
      "source": [
        "print(model(x))"
      ],
      "execution_count": 16,
      "outputs": [
        {
          "output_type": "stream",
          "text": [
            "tf.Tensor(\n",
            "[[-0.16152571  0.32028857 -0.5384774  -0.15393184 -0.08211854 -0.03550574\n",
            "   0.17202051  0.26298004 -0.04626617 -0.18716273]\n",
            " [ 0.5111182   0.3726467  -0.65542245 -0.54093295  0.17855161 -0.32078457\n",
            "   0.8095436   0.66014624  0.19322816 -0.43375862]\n",
            " [ 0.2420021   0.43847394 -0.08090597 -0.1803805  -0.18536413  0.2409837\n",
            "   0.49199697  0.836825    0.30339223  0.45759562]\n",
            " [ 0.13474178 -0.63124156 -0.6814934  -1.1029828   0.3851936  -1.361473\n",
            "   0.51860696  0.52438563  0.5952399   0.25399393]], shape=(4, 10), dtype=float32)\n"
          ],
          "name": "stdout"
        }
      ]
    },
    {
      "cell_type": "code",
      "metadata": {
        "id": "T9nc4l-2jR3Q",
        "colab_type": "code",
        "colab": {}
      },
      "source": [
        "# Activation Function"
      ],
      "execution_count": 0,
      "outputs": []
    },
    {
      "cell_type": "code",
      "metadata": {
        "id": "j-q9M-OfpbzB",
        "colab_type": "code",
        "colab": {
          "base_uri": "https://localhost:8080/",
          "height": 134
        },
        "outputId": "71224e57-f019-434a-b914-adbaebfe346c"
      },
      "source": [
        "x=tf.linspace(-6.,6.,10)\n",
        "y=tf.nn.sigmoid(x)\n",
        "print(x)\n",
        "print()\n",
        "print(y)"
      ],
      "execution_count": 18,
      "outputs": [
        {
          "output_type": "stream",
          "text": [
            "tf.Tensor(\n",
            "[-6.         -4.6666665  -3.3333333  -1.9999999  -0.6666665   0.66666687\n",
            "  2.0000002   3.3333335   4.666667    6.        ], shape=(10,), dtype=float32)\n",
            "\n",
            "tf.Tensor(\n",
            "[0.00247262 0.00931596 0.0344452  0.11920293 0.33924368 0.6607564\n",
            " 0.88079715 0.96555483 0.99068403 0.9975274 ], shape=(10,), dtype=float32)\n"
          ],
          "name": "stdout"
        }
      ]
    },
    {
      "cell_type": "code",
      "metadata": {
        "id": "guXoPOfSpgLw",
        "colab_type": "code",
        "colab": {}
      },
      "source": [
        "### softmax "
      ],
      "execution_count": 0,
      "outputs": []
    },
    {
      "cell_type": "code",
      "metadata": {
        "id": "y6A94kspz5zs",
        "colab_type": "code",
        "colab": {
          "base_uri": "https://localhost:8080/",
          "height": 34
        },
        "outputId": "f5430943-9633-41f6-db82-e6dbc1862fa6"
      },
      "source": [
        "x=tf.constant([2.0,1.0,0.1])\n",
        "print(tf.nn.softmax(x))"
      ],
      "execution_count": 20,
      "outputs": [
        {
          "output_type": "stream",
          "text": [
            "tf.Tensor([0.6590012 0.242433  0.0985659], shape=(3,), dtype=float32)\n"
          ],
          "name": "stdout"
        }
      ]
    },
    {
      "cell_type": "code",
      "metadata": {
        "id": "g7LgsJdv0BYa",
        "colab_type": "code",
        "colab": {
          "base_uri": "https://localhost:8080/",
          "height": 101
        },
        "outputId": "cbe9c709-914e-449c-cfed-91c88ade8133"
      },
      "source": [
        "z=tf.random.normal([2,10])\n",
        "print(z)"
      ],
      "execution_count": 21,
      "outputs": [
        {
          "output_type": "stream",
          "text": [
            "tf.Tensor(\n",
            "[[ 0.83804655 -0.6572743   0.12204202  0.3600687  -0.36521786  0.6326272\n",
            "   0.01715375 -0.32128108 -0.2268682  -1.8043582 ]\n",
            " [ 0.15667193 -0.94290113  1.6524007   0.2871381   0.67194235  0.99983805\n",
            "  -1.66023    -1.2917056  -0.06539543  1.2971896 ]], shape=(2, 10), dtype=float32)\n"
          ],
          "name": "stdout"
        }
      ]
    },
    {
      "cell_type": "code",
      "metadata": {
        "id": "Fq3ZCCVk2V9r",
        "colab_type": "code",
        "colab": {
          "base_uri": "https://localhost:8080/",
          "height": 34
        },
        "outputId": "d25012d3-1b93-4128-fdea-67fbba4359dd"
      },
      "source": [
        "y_onehot=tf.constant([1,3])\n",
        "print(y_onehot)"
      ],
      "execution_count": 22,
      "outputs": [
        {
          "output_type": "stream",
          "text": [
            "tf.Tensor([1 3], shape=(2,), dtype=int32)\n"
          ],
          "name": "stdout"
        }
      ]
    },
    {
      "cell_type": "code",
      "metadata": {
        "id": "454jFlUJ2clP",
        "colab_type": "code",
        "colab": {
          "base_uri": "https://localhost:8080/",
          "height": 67
        },
        "outputId": "9c61084e-d5fa-43d6-a8f6-5ad6ecace00c"
      },
      "source": [
        "y_onehot=tf.one_hot(y_onehot,depth=10)\n",
        "print(y_onehot)"
      ],
      "execution_count": 23,
      "outputs": [
        {
          "output_type": "stream",
          "text": [
            "tf.Tensor(\n",
            "[[0. 1. 0. 0. 0. 0. 0. 0. 0. 0.]\n",
            " [0. 0. 0. 1. 0. 0. 0. 0. 0. 0.]], shape=(2, 10), dtype=float32)\n"
          ],
          "name": "stdout"
        }
      ]
    },
    {
      "cell_type": "code",
      "metadata": {
        "id": "50UYNbEV2pCj",
        "colab_type": "code",
        "colab": {}
      },
      "source": [
        "loss=tensorflow.keras.losses.categorical_crossentropy(y_onehot,z,from_logits=True)\n",
        "loss=tf.reduce_mean(loss)"
      ],
      "execution_count": 0,
      "outputs": []
    },
    {
      "cell_type": "code",
      "metadata": {
        "id": "5zQTZHBo21d_",
        "colab_type": "code",
        "colab": {
          "base_uri": "https://localhost:8080/",
          "height": 34
        },
        "outputId": "dc36c251-0605-4533-ef50-e02c35a9c7fa"
      },
      "source": [
        "loss"
      ],
      "execution_count": 25,
      "outputs": [
        {
          "output_type": "execute_result",
          "data": {
            "text/plain": [
              "<tf.Tensor: shape=(), dtype=float32, numpy=2.8099132>"
            ]
          },
          "metadata": {
            "tags": []
          },
          "execution_count": 25
        }
      ]
    },
    {
      "cell_type": "code",
      "metadata": {
        "id": "fL9F98M33Aoz",
        "colab_type": "code",
        "colab": {
          "base_uri": "https://localhost:8080/",
          "height": 34
        },
        "outputId": "0373d216-75a5-41cd-c8e9-8e8c95939ca7"
      },
      "source": [
        "criteria=tensorflow.keras.losses.CategoricalCrossentropy(from_logits=True)\n",
        "loss=criteria(z,y_onehot)\n",
        "print(loss)"
      ],
      "execution_count": 26,
      "outputs": [
        {
          "output_type": "stream",
          "text": [
            "tf.Tensor(-0.18424332, shape=(), dtype=float32)\n"
          ],
          "name": "stdout"
        }
      ]
    },
    {
      "cell_type": "code",
      "metadata": {
        "id": "A4JgkK4X3y2Z",
        "colab_type": "code",
        "colab": {
          "base_uri": "https://localhost:8080/",
          "height": 34
        },
        "outputId": "4407a94f-48bb-4615-dd9b-3dba07aab296"
      },
      "source": [
        "# MSE\n",
        "loss_MSE=tensorflow.keras.losses.MSE(y_onehot,z)\n",
        "print(tf.reduce_mean(loss_MSE))"
      ],
      "execution_count": 27,
      "outputs": [
        {
          "output_type": "stream",
          "text": [
            "tf.Tensor(0.9626478, shape=(), dtype=float32)\n"
          ],
          "name": "stdout"
        }
      ]
    },
    {
      "cell_type": "code",
      "metadata": {
        "id": "eOcJ_XOo6Cyd",
        "colab_type": "code",
        "colab": {
          "base_uri": "https://localhost:8080/",
          "height": 34
        },
        "outputId": "cbb6753f-2d31-4241-b8a2-03b4a9a7b529"
      },
      "source": [
        "# MSE class\n",
        "criterion=tensorflow.keras.losses.MeanSquaredError()\n",
        "loss_MSE=criterion(z,y_onehot)\n",
        "print(loss_MSE)"
      ],
      "execution_count": 28,
      "outputs": [
        {
          "output_type": "stream",
          "text": [
            "tf.Tensor(0.9626478, shape=(), dtype=float32)\n"
          ],
          "name": "stdout"
        }
      ]
    },
    {
      "cell_type": "markdown",
      "metadata": {
        "id": "gW914NmxS1xd",
        "colab_type": "text"
      },
      "source": [
        "Example"
      ]
    },
    {
      "cell_type": "code",
      "metadata": {
        "id": "W8MyBpKkjWw1",
        "colab_type": "code",
        "colab": {}
      },
      "source": [
        "# load the data\n",
        "def load_data():\n",
        "  dataset_path=tensorflow.keras.utils.get_file('auto-mpg.data','http://archive.ics.uci.edu/ml/machine-learning-databases/auto-mpg/auto-mpg.data')\n",
        "  column_names=['MPG','Cylinders','Displacement','Horsepower','Weight','Acceleration','Model Year','Origin']\n",
        "  raw_dataset=pd.read_csv(dataset_path,sep=' ',names=column_names,comment='\\t',na_values='?',skipinitialspace=True)\n",
        "  return raw_dataset"
      ],
      "execution_count": 0,
      "outputs": []
    },
    {
      "cell_type": "code",
      "metadata": {
        "id": "vx71g2-KjjXo",
        "colab_type": "code",
        "colab": {}
      },
      "source": [
        "raw_dataset=load_data()"
      ],
      "execution_count": 0,
      "outputs": []
    },
    {
      "cell_type": "code",
      "metadata": {
        "id": "yhQfFAgYjqYo",
        "colab_type": "code",
        "colab": {
          "base_uri": "https://localhost:8080/",
          "height": 319
        },
        "outputId": "be88ce12-763a-4785-bd51-5a7c336b2d53"
      },
      "source": [
        "# preprocessing data\n",
        "'''\n",
        "drop the data that contains na\n",
        "drop the Origin column\n",
        "change Origin to the corresponding countries\n",
        "split the features and labels\n",
        "'''\n",
        "def preprocessing(dataset):\n",
        "  dataset=dataset.dropna()\n",
        "  dataset['USA']=(dataset.Origin==1)*1.0\n",
        "  dataset['Europe']=(dataset.Origin==2)*1.0\n",
        "  dataset['Japan']=(dataset.Origin==3)*1.0\n",
        "\n",
        "  train_dataset=dataset.sample(frac=0.8, random_state=42).drop(['Origin'],axis=1)\n",
        "  train_labels=train_dataset.pop('MPG')\n",
        "\n",
        "  \n",
        "  test_dataset=dataset.drop(train_dataset.index).drop(['Origin'],axis=1)\n",
        "  test_labels=test_dataset.pop('MPG')\n",
        "  # test_dataset=test_dataset.drop('MPG')\n",
        "\n",
        "  return train_dataset,train_labels,test_dataset,test_labels\n",
        "X_train,y_train,X_test,y_test=preprocessing(raw_dataset)"
      ],
      "execution_count": 33,
      "outputs": [
        {
          "output_type": "stream",
          "text": [
            "/usr/local/lib/python3.6/dist-packages/ipykernel_launcher.py:10: SettingWithCopyWarning: \n",
            "A value is trying to be set on a copy of a slice from a DataFrame.\n",
            "Try using .loc[row_indexer,col_indexer] = value instead\n",
            "\n",
            "See the caveats in the documentation: https://pandas.pydata.org/pandas-docs/stable/user_guide/indexing.html#returning-a-view-versus-a-copy\n",
            "  # Remove the CWD from sys.path while we load stuff.\n",
            "/usr/local/lib/python3.6/dist-packages/ipykernel_launcher.py:11: SettingWithCopyWarning: \n",
            "A value is trying to be set on a copy of a slice from a DataFrame.\n",
            "Try using .loc[row_indexer,col_indexer] = value instead\n",
            "\n",
            "See the caveats in the documentation: https://pandas.pydata.org/pandas-docs/stable/user_guide/indexing.html#returning-a-view-versus-a-copy\n",
            "  # This is added back by InteractiveShellApp.init_path()\n",
            "/usr/local/lib/python3.6/dist-packages/ipykernel_launcher.py:12: SettingWithCopyWarning: \n",
            "A value is trying to be set on a copy of a slice from a DataFrame.\n",
            "Try using .loc[row_indexer,col_indexer] = value instead\n",
            "\n",
            "See the caveats in the documentation: https://pandas.pydata.org/pandas-docs/stable/user_guide/indexing.html#returning-a-view-versus-a-copy\n",
            "  if sys.path[0] == '':\n"
          ],
          "name": "stderr"
        }
      ]
    },
    {
      "cell_type": "code",
      "metadata": {
        "id": "RnjeZJRzlgHs",
        "colab_type": "code",
        "colab": {}
      },
      "source": [
        "# get the statistic description of training dataset and normalize the dataset\n",
        "def norm(trainset,X):\n",
        "  train_stats=trainset.describe()\n",
        "  train_stats=train_stats.transpose()\n",
        "  \n",
        "  X=(X-train_stats['mean'])/train_stats['std']\n",
        "  return X\n",
        "\n",
        "X_train_norm=norm(X_train,X_train)\n",
        "X_test_norm=norm(X_train,X_test)"
      ],
      "execution_count": 0,
      "outputs": []
    },
    {
      "cell_type": "code",
      "metadata": {
        "id": "mB-XBIrubOHb",
        "colab_type": "code",
        "colab": {
          "base_uri": "https://localhost:8080/",
          "height": 195
        },
        "outputId": "e4043ebe-c4e7-46a6-e13f-213563fe22bb"
      },
      "source": [
        "raw_dataset.tail()"
      ],
      "execution_count": 36,
      "outputs": [
        {
          "output_type": "execute_result",
          "data": {
            "text/html": [
              "<div>\n",
              "<style scoped>\n",
              "    .dataframe tbody tr th:only-of-type {\n",
              "        vertical-align: middle;\n",
              "    }\n",
              "\n",
              "    .dataframe tbody tr th {\n",
              "        vertical-align: top;\n",
              "    }\n",
              "\n",
              "    .dataframe thead th {\n",
              "        text-align: right;\n",
              "    }\n",
              "</style>\n",
              "<table border=\"1\" class=\"dataframe\">\n",
              "  <thead>\n",
              "    <tr style=\"text-align: right;\">\n",
              "      <th></th>\n",
              "      <th>MPG</th>\n",
              "      <th>Cylinders</th>\n",
              "      <th>Displacement</th>\n",
              "      <th>Horsepower</th>\n",
              "      <th>Weight</th>\n",
              "      <th>Acceleration</th>\n",
              "      <th>Model Year</th>\n",
              "      <th>Origin</th>\n",
              "    </tr>\n",
              "  </thead>\n",
              "  <tbody>\n",
              "    <tr>\n",
              "      <th>393</th>\n",
              "      <td>27.0</td>\n",
              "      <td>4</td>\n",
              "      <td>140.0</td>\n",
              "      <td>86.0</td>\n",
              "      <td>2790.0</td>\n",
              "      <td>15.6</td>\n",
              "      <td>82</td>\n",
              "      <td>1</td>\n",
              "    </tr>\n",
              "    <tr>\n",
              "      <th>394</th>\n",
              "      <td>44.0</td>\n",
              "      <td>4</td>\n",
              "      <td>97.0</td>\n",
              "      <td>52.0</td>\n",
              "      <td>2130.0</td>\n",
              "      <td>24.6</td>\n",
              "      <td>82</td>\n",
              "      <td>2</td>\n",
              "    </tr>\n",
              "    <tr>\n",
              "      <th>395</th>\n",
              "      <td>32.0</td>\n",
              "      <td>4</td>\n",
              "      <td>135.0</td>\n",
              "      <td>84.0</td>\n",
              "      <td>2295.0</td>\n",
              "      <td>11.6</td>\n",
              "      <td>82</td>\n",
              "      <td>1</td>\n",
              "    </tr>\n",
              "    <tr>\n",
              "      <th>396</th>\n",
              "      <td>28.0</td>\n",
              "      <td>4</td>\n",
              "      <td>120.0</td>\n",
              "      <td>79.0</td>\n",
              "      <td>2625.0</td>\n",
              "      <td>18.6</td>\n",
              "      <td>82</td>\n",
              "      <td>1</td>\n",
              "    </tr>\n",
              "    <tr>\n",
              "      <th>397</th>\n",
              "      <td>31.0</td>\n",
              "      <td>4</td>\n",
              "      <td>119.0</td>\n",
              "      <td>82.0</td>\n",
              "      <td>2720.0</td>\n",
              "      <td>19.4</td>\n",
              "      <td>82</td>\n",
              "      <td>1</td>\n",
              "    </tr>\n",
              "  </tbody>\n",
              "</table>\n",
              "</div>"
            ],
            "text/plain": [
              "      MPG  Cylinders  Displacement  ...  Acceleration  Model Year  Origin\n",
              "393  27.0          4         140.0  ...          15.6          82       1\n",
              "394  44.0          4          97.0  ...          24.6          82       2\n",
              "395  32.0          4         135.0  ...          11.6          82       1\n",
              "396  28.0          4         120.0  ...          18.6          82       1\n",
              "397  31.0          4         119.0  ...          19.4          82       1\n",
              "\n",
              "[5 rows x 8 columns]"
            ]
          },
          "metadata": {
            "tags": []
          },
          "execution_count": 36
        }
      ]
    },
    {
      "cell_type": "code",
      "metadata": {
        "id": "OIYsz-A_kFGt",
        "colab_type": "code",
        "colab": {
          "base_uri": "https://localhost:8080/",
          "height": 351
        },
        "outputId": "11c3a38d-eaa9-4b40-af4a-7a2b8e216711"
      },
      "source": [
        "plt.figure(figsize=(16,5))\n",
        "plt.subplot(141)\n",
        "plt.scatter(raw_dataset.Cylinders,raw_dataset.MPG,s=5)\n",
        "plt.xlabel('Cylinders')\n",
        "plt.ylabel('MPG')\n",
        "\n",
        "plt.subplot(142)\n",
        "plt.scatter(raw_dataset.Displacement,raw_dataset.MPG,s=5)\n",
        "plt.xlabel('Displacement')\n",
        "\n",
        "plt.subplot(143)\n",
        "plt.scatter(raw_dataset.Weight,raw_dataset.MPG,s=5)\n",
        "plt.xlabel('Weight')\n",
        "\n",
        "plt.subplot(144)\n",
        "plt.plot(np.unique(raw_dataset.MPG.values),raw_dataset.MPG.value_counts())\n",
        "plt.xlabel('MPG')"
      ],
      "execution_count": 37,
      "outputs": [
        {
          "output_type": "execute_result",
          "data": {
            "text/plain": [
              "Text(0.5, 0, 'MPG')"
            ]
          },
          "metadata": {
            "tags": []
          },
          "execution_count": 37
        },
        {
          "output_type": "display_data",
          "data": {
            "image/png": "[encoded data removed]",
            "text/plain": [
              "<Figure size 1152x360 with 4 Axes>"
            ]
          },
          "metadata": {
            "tags": [],
            "needs_background": "light"
          }
        }
      ]
    },
    {
      "cell_type": "code",
      "metadata": {
        "id": "EWyA4Qioed8J",
        "colab_type": "code",
        "colab": {
          "base_uri": "https://localhost:8080/",
          "height": 747
        },
        "outputId": "93f22514-c23c-4379-9b42-cc6f5d96f41a"
      },
      "source": [
        "sns_plot=sns.pairplot(raw_dataset[['Cylinders','Displacement','Weight','MPG']],diag_kind='kde')"
      ],
      "execution_count": 38,
      "outputs": [
        {
          "output_type": "display_data",
          "data": {
            "image/png": "[encoded data removed]",
            "text/plain": [
              "<Figure size 720x720 with 20 Axes>"
            ]
          },
          "metadata": {
            "tags": [],
            "needs_background": "light"
          }
        }
      ]
    },
    {
      "cell_type": "code",
      "metadata": {
        "id": "wCpSDpzzolBI",
        "colab_type": "code",
        "colab": {}
      },
      "source": [
        "train_db=tf.data.Dataset.from_tensor_slices((X_train_norm.values,y_train.values))\n",
        "train_db=train_db.shuffle(100).batch(32)"
      ],
      "execution_count": 0,
      "outputs": []
    },
    {
      "cell_type": "code",
      "metadata": {
        "id": "tCu2ux5onqR_",
        "colab_type": "code",
        "colab": {}
      },
      "source": [
        "# the network structure\n",
        "# 9 inputs\n",
        "# 64 hidden neurons\n",
        "# 64 hidden neurons\n",
        "# 1 outputs"
      ],
      "execution_count": 0,
      "outputs": []
    },
    {
      "cell_type": "code",
      "metadata": {
        "id": "bPyfan_KoSaX",
        "colab_type": "code",
        "colab": {}
      },
      "source": [
        "class Network(keras.Model):\n",
        "  def __init__(self):\n",
        "    super(Network,self).__init__()\n",
        "\n",
        "    self.fc1=layers.Dense(64,activation=tf.nn.relu)\n",
        "    self.fc2=layers.Dense(64,activation=tf.nn.relu)\n",
        "    self.fc3=layers.Dense(1,activation=None)\n",
        "\n",
        "  def call(self,inputs,training=None,mask=None):\n",
        "    x=self.fc1(inputs)\n",
        "    x=self.fc2(x)\n",
        "    x=self.fc3(x)\n",
        "    return x"
      ],
      "execution_count": 0,
      "outputs": []
    },
    {
      "cell_type": "code",
      "metadata": {
        "id": "gCs9TfFMowVQ",
        "colab_type": "code",
        "colab": {}
      },
      "source": [
        "def build_model():\n",
        "  model=Network()\n",
        "  model.build(input_shape=(4,9))\n",
        "  model.summary()\n",
        "  return model"
      ],
      "execution_count": 0,
      "outputs": []
    },
    {
      "cell_type": "code",
      "metadata": {
        "id": "4b504NjApjzy",
        "colab_type": "code",
        "colab": {}
      },
      "source": [
        "optimizer=tf.keras.optimizers.RMSprop(0.001)"
      ],
      "execution_count": 0,
      "outputs": []
    },
    {
      "cell_type": "code",
      "metadata": {
        "id": "Z1dA-kKuiMFo",
        "colab_type": "code",
        "colab": {
          "base_uri": "https://localhost:8080/",
          "height": 252
        },
        "outputId": "6933f2fc-fab9-4140-9b93-2655822a9853"
      },
      "source": [
        "model=build_model()"
      ],
      "execution_count": 54,
      "outputs": [
        {
          "output_type": "stream",
          "text": [
            "Model: \"network_2\"\n",
            "_________________________________________________________________\n",
            "Layer (type)                 Output Shape              Param #   \n",
            "=================================================================\n",
            "dense_11 (Dense)             multiple                  640       \n",
            "_________________________________________________________________\n",
            "dense_12 (Dense)             multiple                  4160      \n",
            "_________________________________________________________________\n",
            "dense_13 (Dense)             multiple                  65        \n",
            "=================================================================\n",
            "Total params: 4,865\n",
            "Trainable params: 4,865\n",
            "Non-trainable params: 0\n",
            "_________________________________________________________________\n"
          ],
          "name": "stdout"
        }
      ]
    },
    {
      "cell_type": "code",
      "metadata": {
        "id": "oe6BMn5UpsAH",
        "colab_type": "code",
        "colab": {
          "base_uri": "https://localhost:8080/",
          "height": 1000
        },
        "outputId": "0be41af9-6f8c-4d3b-885f-7e9da08eb660"
      },
      "source": [
        "mse=[]\n",
        "mae=[]\n",
        "test_mae=[]\n",
        "for epoch in range(200):\n",
        "  for step,(x,y) in enumerate(train_db):\n",
        "    # print('step',step)\n",
        "    with tf.GradientTape() as tape:\n",
        "      out=model(x)\n",
        "      loss=tf.reduce_mean(keras.losses.MSE(y,out))\n",
        "      mae_loss=tf.reduce_mean(keras.losses.MAE(y,out))\n",
        "\n",
        "    if step%10==0:\n",
        "      print(epoch,step,float(loss))\n",
        "    grads=tape.gradient(loss,model.trainable_variables)\n",
        "    optimizer.apply_gradients(zip(grads,model.trainable_variables))\n",
        "  mse.append(loss)\n",
        "  mae.append(mae_loss)\n",
        "\n",
        "  out=model(tf.constant(X_test_norm.values))\n",
        "  test_mae.append(tf.reduce_mean(keras.losses.MAE(out,y_test)))"
      ],
      "execution_count": 55,
      "outputs": [
        {
          "output_type": "stream",
          "text": [
            "WARNING:tensorflow:Layer network_2 is casting an input tensor from dtype float64 to the layer's dtype of float32, which is new behavior in TensorFlow 2.  The layer has dtype float32 because it's dtype defaults to floatx.\n",
            "\n",
            "If you intended to run this layer in float32, you can safely ignore this warning. If in doubt, this warning is likely only an issue if you are porting a TensorFlow 1.X model to TensorFlow 2.\n",
            "\n",
            "To change all layers to have dtype float64 by default, call `tf.keras.backend.set_floatx('float64')`. To change just this layer, pass dtype='float64' to the layer constructor. If you are the author of this layer, you can disable autocasting by passing autocast=False to the base Layer constructor.\n",
            "\n",
            "0 0 475.72833251953125\n",
            "1 0 382.5677490234375\n",
            "2 0 448.78448486328125\n",
            "3 0 420.86029052734375\n",
            "4 0 259.5030212402344\n",
            "5 0 222.99790954589844\n",
            "6 0 153.58432006835938\n",
            "7 0 137.28695678710938\n",
            "8 0 101.44873809814453\n",
            "9 0 104.58483123779297\n",
            "10 0 102.29437255859375\n",
            "11 0 92.99559020996094\n",
            "12 0 57.57170486450195\n",
            "13 0 58.86083984375\n",
            "14 0 47.64527893066406\n",
            "15 0 78.28163146972656\n",
            "16 0 54.13966369628906\n",
            "17 0 61.07596206665039\n",
            "18 0 67.78935241699219\n",
            "19 0 55.37171173095703\n",
            "20 0 60.317596435546875\n",
            "21 0 48.27976608276367\n",
            "22 0 57.514251708984375\n",
            "23 0 55.308990478515625\n",
            "24 0 66.48631286621094\n",
            "25 0 35.45733642578125\n",
            "26 0 51.69835662841797\n",
            "27 0 37.650413513183594\n",
            "28 0 46.58472442626953\n",
            "29 0 50.3505973815918\n",
            "30 0 44.075279235839844\n",
            "31 0 46.785423278808594\n",
            "32 0 54.48009490966797\n",
            "33 0 48.67884063720703\n",
            "34 0 45.00912094116211\n",
            "35 0 51.431396484375\n",
            "36 0 38.552146911621094\n",
            "37 0 67.56340789794922\n",
            "38 0 62.529541015625\n",
            "39 0 52.71991729736328\n",
            "40 0 50.4942741394043\n",
            "41 0 47.292816162109375\n",
            "42 0 52.59636306762695\n",
            "43 0 66.59815216064453\n",
            "44 0 49.83916473388672\n",
            "45 0 54.4300537109375\n",
            "46 0 64.85092163085938\n",
            "47 0 54.3680419921875\n",
            "48 0 66.88999938964844\n",
            "49 0 58.171714782714844\n",
            "50 0 72.7691421508789\n",
            "51 0 49.815834045410156\n",
            "52 0 34.30046081542969\n",
            "53 0 30.992504119873047\n",
            "54 0 67.96519470214844\n",
            "55 0 51.263999938964844\n",
            "56 0 67.58941650390625\n",
            "57 0 53.99648666381836\n",
            "58 0 76.5118408203125\n",
            "59 0 60.64976501464844\n",
            "60 0 47.62087631225586\n",
            "61 0 62.671241760253906\n",
            "62 0 51.96753692626953\n",
            "63 0 57.93680191040039\n",
            "64 0 57.53272247314453\n",
            "65 0 41.07603454589844\n",
            "66 0 42.50469970703125\n",
            "67 0 55.46961212158203\n",
            "68 0 39.51007843017578\n",
            "69 0 44.39911651611328\n",
            "70 0 60.126495361328125\n",
            "71 0 48.04090881347656\n",
            "72 0 39.168251037597656\n",
            "73 0 47.01213073730469\n",
            "74 0 38.45829391479492\n",
            "75 0 64.52290344238281\n",
            "76 0 38.33586883544922\n",
            "77 0 44.36545944213867\n",
            "78 0 46.309303283691406\n",
            "79 0 42.85758972167969\n",
            "80 0 41.749725341796875\n",
            "81 0 70.0839614868164\n",
            "82 0 37.932838439941406\n",
            "83 0 49.83216094970703\n",
            "84 0 45.65406036376953\n",
            "85 0 50.33222961425781\n",
            "86 0 42.337440490722656\n",
            "87 0 46.380882263183594\n",
            "88 0 52.53923797607422\n",
            "89 0 49.81867980957031\n",
            "90 0 68.177001953125\n",
            "91 0 38.098106384277344\n",
            "92 0 43.06239318847656\n",
            "93 0 50.81584930419922\n",
            "94 0 37.149112701416016\n",
            "95 0 35.285919189453125\n",
            "96 0 37.41287612915039\n",
            "97 0 52.77837371826172\n",
            "98 0 38.202796936035156\n",
            "99 0 54.77214813232422\n",
            "100 0 63.26774215698242\n",
            "101 0 40.157840728759766\n",
            "102 0 67.42045593261719\n",
            "103 0 63.530738830566406\n",
            "104 0 43.08987808227539\n",
            "105 0 47.05009841918945\n",
            "106 0 63.77799606323242\n",
            "107 0 55.0052375793457\n",
            "108 0 50.30009841918945\n",
            "109 0 64.98526763916016\n",
            "110 0 70.61231994628906\n",
            "111 0 44.798824310302734\n",
            "112 0 24.246013641357422\n",
            "113 0 42.33258056640625\n",
            "114 0 75.04472351074219\n",
            "115 0 63.67321014404297\n",
            "116 0 54.92265319824219\n",
            "117 0 52.186805725097656\n",
            "118 0 36.12464904785156\n",
            "119 0 40.244659423828125\n",
            "120 0 36.26910400390625\n",
            "121 0 46.170387268066406\n",
            "122 0 47.552581787109375\n",
            "123 0 51.01239013671875\n",
            "124 0 49.92058181762695\n",
            "125 0 38.86199951171875\n",
            "126 0 33.98335266113281\n",
            "127 0 75.26132202148438\n",
            "128 0 75.72288513183594\n",
            "129 0 53.04747009277344\n",
            "130 0 32.33451461791992\n",
            "131 0 48.353126525878906\n",
            "132 0 68.30014038085938\n",
            "133 0 45.754913330078125\n",
            "134 0 51.774879455566406\n",
            "135 0 47.76072311401367\n",
            "136 0 50.417110443115234\n",
            "137 0 69.62320709228516\n",
            "138 0 40.29677200317383\n",
            "139 0 52.272151947021484\n",
            "140 0 58.54297637939453\n",
            "141 0 42.03565216064453\n",
            "142 0 53.65719985961914\n",
            "143 0 53.74783706665039\n",
            "144 0 55.06407928466797\n",
            "145 0 54.95178985595703\n",
            "146 0 84.51995086669922\n",
            "147 0 50.34547805786133\n",
            "148 0 44.28288269042969\n",
            "149 0 41.258514404296875\n",
            "150 0 58.666351318359375\n",
            "151 0 52.367916107177734\n",
            "152 0 50.305076599121094\n",
            "153 0 57.42145538330078\n",
            "154 0 44.62372589111328\n",
            "155 0 48.95779800415039\n",
            "156 0 61.988006591796875\n",
            "157 0 71.09388732910156\n",
            "158 0 48.55219268798828\n",
            "159 0 58.79888916015625\n",
            "160 0 55.62567138671875\n",
            "161 0 71.94889831542969\n",
            "162 0 51.289981842041016\n",
            "163 0 52.74654006958008\n",
            "164 0 56.331146240234375\n",
            "165 0 52.72211837768555\n",
            "166 0 50.890960693359375\n",
            "167 0 53.9119758605957\n",
            "168 0 44.28303527832031\n",
            "169 0 41.10558319091797\n",
            "170 0 44.98786926269531\n",
            "171 0 55.58275604248047\n",
            "172 0 57.41729736328125\n",
            "173 0 57.97002410888672\n",
            "174 0 46.95496368408203\n",
            "175 0 37.264488220214844\n",
            "176 0 65.54621887207031\n",
            "177 0 48.13197326660156\n",
            "178 0 45.701744079589844\n",
            "179 0 58.17775344848633\n",
            "180 0 38.51165008544922\n",
            "181 0 70.6602783203125\n",
            "182 0 56.848419189453125\n",
            "183 0 43.107723236083984\n",
            "184 0 61.47616958618164\n",
            "185 0 58.205142974853516\n",
            "186 0 57.777252197265625\n",
            "187 0 50.80887985229492\n",
            "188 0 44.93922424316406\n",
            "189 0 46.560333251953125\n",
            "190 0 47.120906829833984\n",
            "191 0 68.4991455078125\n",
            "192 0 48.794151306152344\n",
            "193 0 41.52085876464844\n",
            "194 0 43.71551513671875\n",
            "195 0 63.14251708984375\n",
            "196 0 44.058258056640625\n",
            "197 0 52.390865325927734\n",
            "198 0 44.883827209472656\n",
            "199 0 45.51575469970703\n"
          ],
          "name": "stdout"
        }
      ]
    },
    {
      "cell_type": "code",
      "metadata": {
        "id": "e2lgtpFWqaJ6",
        "colab_type": "code",
        "colab": {
          "base_uri": "https://localhost:8080/",
          "height": 282
        },
        "outputId": "ba165768-ed30-4802-9b13-6f0be33cbfd9"
      },
      "source": [
        "plt.plot(range(200),mse)\n",
        "plt.plot(range(200),test_mae)"
      ],
      "execution_count": 56,
      "outputs": [
        {
          "output_type": "execute_result",
          "data": {
            "text/plain": [
              "[<matplotlib.lines.Line2D at 0x7f1658956080>]"
            ]
          },
          "metadata": {
            "tags": []
          },
          "execution_count": 56
        },
        {
          "output_type": "display_data",
          "data": {
            "image/png": "[encoded data removed]",
            "text/plain": [
              "<Figure size 432x288 with 1 Axes>"
            ]
          },
          "metadata": {
            "tags": [],
            "needs_background": "light"
          }
        }
      ]
    },
    {
      "cell_type": "code",
      "metadata": {
        "id": "Qmh5m63qsQDo",
        "colab_type": "code",
        "colab": {
          "base_uri": "https://localhost:8080/",
          "height": 1000
        },
        "outputId": "590f3553-bbd4-4da0-e3e7-590dc30eca40"
      },
      "source": [
        "test_mae"
      ],
      "execution_count": 69,
      "outputs": [
        {
          "output_type": "execute_result",
          "data": {
            "text/plain": [
              "[<tf.Tensor: shape=(), dtype=float64, numpy=6.95067680391491>,\n",
              " <tf.Tensor: shape=(), dtype=float64, numpy=6.932135551246979>,\n",
              " <tf.Tensor: shape=(), dtype=float64, numpy=6.9761967585637015>,\n",
              " <tf.Tensor: shape=(), dtype=float64, numpy=6.959040750883505>,\n",
              " <tf.Tensor: shape=(), dtype=float64, numpy=7.031152687223234>,\n",
              " <tf.Tensor: shape=(), dtype=float64, numpy=7.010744479829587>,\n",
              " <tf.Tensor: shape=(), dtype=float64, numpy=6.941750646186142>,\n",
              " <tf.Tensor: shape=(), dtype=float64, numpy=7.037702361037275>,\n",
              " <tf.Tensor: shape=(), dtype=float64, numpy=6.9832040618705875>,\n",
              " <tf.Tensor: shape=(), dtype=float64, numpy=7.0555478455282055>,\n",
              " <tf.Tensor: shape=(), dtype=float64, numpy=6.944572924627119>,\n",
              " <tf.Tensor: shape=(), dtype=float64, numpy=6.986920869640423>,\n",
              " <tf.Tensor: shape=(), dtype=float64, numpy=7.002332059495312>,\n",
              " <tf.Tensor: shape=(), dtype=float64, numpy=7.181409872557911>,\n",
              " <tf.Tensor: shape=(), dtype=float64, numpy=7.070323830102322>,\n",
              " <tf.Tensor: shape=(), dtype=float64, numpy=6.979687694120689>,\n",
              " <tf.Tensor: shape=(), dtype=float64, numpy=7.059621912989469>,\n",
              " <tf.Tensor: shape=(), dtype=float64, numpy=7.157656376554651>,\n",
              " <tf.Tensor: shape=(), dtype=float64, numpy=6.926067088325897>,\n",
              " <tf.Tensor: shape=(), dtype=float64, numpy=7.078978060986319>,\n",
              " <tf.Tensor: shape=(), dtype=float64, numpy=6.9829441929553235>,\n",
              " <tf.Tensor: shape=(), dtype=float64, numpy=6.935303935089212>,\n",
              " <tf.Tensor: shape=(), dtype=float64, numpy=6.929644359561035>,\n",
              " <tf.Tensor: shape=(), dtype=float64, numpy=6.9912832430677145>,\n",
              " <tf.Tensor: shape=(), dtype=float64, numpy=6.949900671778973>,\n",
              " <tf.Tensor: shape=(), dtype=float64, numpy=6.959962138590415>,\n",
              " <tf.Tensor: shape=(), dtype=float64, numpy=6.945747686482666>,\n",
              " <tf.Tensor: shape=(), dtype=float64, numpy=6.96908815121823>,\n",
              " <tf.Tensor: shape=(), dtype=float64, numpy=6.9790527731238985>,\n",
              " <tf.Tensor: shape=(), dtype=float64, numpy=7.348823846068372>,\n",
              " <tf.Tensor: shape=(), dtype=float64, numpy=6.946991161042965>,\n",
              " <tf.Tensor: shape=(), dtype=float64, numpy=6.928416355592024>,\n",
              " <tf.Tensor: shape=(), dtype=float64, numpy=7.069650999516895>,\n",
              " <tf.Tensor: shape=(), dtype=float64, numpy=6.937404397441555>,\n",
              " <tf.Tensor: shape=(), dtype=float64, numpy=7.029897877795377>,\n",
              " <tf.Tensor: shape=(), dtype=float64, numpy=7.010631469987396>,\n",
              " <tf.Tensor: shape=(), dtype=float64, numpy=6.994757200086845>,\n",
              " <tf.Tensor: shape=(), dtype=float64, numpy=6.987963014335557>,\n",
              " <tf.Tensor: shape=(), dtype=float64, numpy=6.957292333799785>,\n",
              " <tf.Tensor: shape=(), dtype=float64, numpy=6.974792846012554>,\n",
              " <tf.Tensor: shape=(), dtype=float64, numpy=6.928665470873189>,\n",
              " <tf.Tensor: shape=(), dtype=float64, numpy=6.983711972007777>,\n",
              " <tf.Tensor: shape=(), dtype=float64, numpy=6.933283296970064>,\n",
              " <tf.Tensor: shape=(), dtype=float64, numpy=6.942180942658294>,\n",
              " <tf.Tensor: shape=(), dtype=float64, numpy=7.0190249354646514>,\n",
              " <tf.Tensor: shape=(), dtype=float64, numpy=6.971760833083133>,\n",
              " <tf.Tensor: shape=(), dtype=float64, numpy=7.031898936184514>,\n",
              " <tf.Tensor: shape=(), dtype=float64, numpy=6.969380468384833>,\n",
              " <tf.Tensor: shape=(), dtype=float64, numpy=7.001287728309005>,\n",
              " <tf.Tensor: shape=(), dtype=float64, numpy=6.969170427541839>,\n",
              " <tf.Tensor: shape=(), dtype=float64, numpy=6.940978319342398>,\n",
              " <tf.Tensor: shape=(), dtype=float64, numpy=6.947347978319799>,\n",
              " <tf.Tensor: shape=(), dtype=float64, numpy=6.960814808200332>,\n",
              " <tf.Tensor: shape=(), dtype=float64, numpy=6.9974118800166405>,\n",
              " <tf.Tensor: shape=(), dtype=float64, numpy=6.9339152429544315>,\n",
              " <tf.Tensor: shape=(), dtype=float64, numpy=6.978588219616932>,\n",
              " <tf.Tensor: shape=(), dtype=float64, numpy=6.9436990673960555>,\n",
              " <tf.Tensor: shape=(), dtype=float64, numpy=7.039612765691533>,\n",
              " <tf.Tensor: shape=(), dtype=float64, numpy=6.9378106351121325>,\n",
              " <tf.Tensor: shape=(), dtype=float64, numpy=6.9802055057924415>,\n",
              " <tf.Tensor: shape=(), dtype=float64, numpy=7.073866001106578>,\n",
              " <tf.Tensor: shape=(), dtype=float64, numpy=7.0006476747762365>,\n",
              " <tf.Tensor: shape=(), dtype=float64, numpy=6.957684332065719>,\n",
              " <tf.Tensor: shape=(), dtype=float64, numpy=7.0163037505140435>,\n",
              " <tf.Tensor: shape=(), dtype=float64, numpy=6.9457158252332345>,\n",
              " <tf.Tensor: shape=(), dtype=float64, numpy=6.950036458072498>,\n",
              " <tf.Tensor: shape=(), dtype=float64, numpy=6.930240566522021>,\n",
              " <tf.Tensor: shape=(), dtype=float64, numpy=7.0716083481466985>,\n",
              " <tf.Tensor: shape=(), dtype=float64, numpy=6.988856754139958>,\n",
              " <tf.Tensor: shape=(), dtype=float64, numpy=6.947548901384241>,\n",
              " <tf.Tensor: shape=(), dtype=float64, numpy=6.926720412290074>,\n",
              " <tf.Tensor: shape=(), dtype=float64, numpy=7.077979851521447>,\n",
              " <tf.Tensor: shape=(), dtype=float64, numpy=6.98987466058474>,\n",
              " <tf.Tensor: shape=(), dtype=float64, numpy=6.963859559108676>,\n",
              " <tf.Tensor: shape=(), dtype=float64, numpy=7.006300962073171>,\n",
              " <tf.Tensor: shape=(), dtype=float64, numpy=7.115918423955493>,\n",
              " <tf.Tensor: shape=(), dtype=float64, numpy=6.988166753905609>,\n",
              " <tf.Tensor: shape=(), dtype=float64, numpy=6.994251364457773>,\n",
              " <tf.Tensor: shape=(), dtype=float64, numpy=6.975861121509358>,\n",
              " <tf.Tensor: shape=(), dtype=float64, numpy=7.007147146321533>,\n",
              " <tf.Tensor: shape=(), dtype=float64, numpy=7.029316503260183>,\n",
              " <tf.Tensor: shape=(), dtype=float64, numpy=6.936987963418754>,\n",
              " <tf.Tensor: shape=(), dtype=float64, numpy=7.067072272817998>,\n",
              " <tf.Tensor: shape=(), dtype=float64, numpy=6.941817035963472>,\n",
              " <tf.Tensor: shape=(), dtype=float64, numpy=7.0490613440790115>,\n",
              " <tf.Tensor: shape=(), dtype=float64, numpy=6.992754047752446>,\n",
              " <tf.Tensor: shape=(), dtype=float64, numpy=7.136837739587065>,\n",
              " <tf.Tensor: shape=(), dtype=float64, numpy=6.929110266204573>,\n",
              " <tf.Tensor: shape=(), dtype=float64, numpy=7.053748889223359>,\n",
              " <tf.Tensor: shape=(), dtype=float64, numpy=6.931538993790305>,\n",
              " <tf.Tensor: shape=(), dtype=float64, numpy=6.957610831426838>,\n",
              " <tf.Tensor: shape=(), dtype=float64, numpy=7.049063714282595>,\n",
              " <tf.Tensor: shape=(), dtype=float64, numpy=6.945344027682874>,\n",
              " <tf.Tensor: shape=(), dtype=float64, numpy=7.036082955836309>,\n",
              " <tf.Tensor: shape=(), dtype=float64, numpy=6.933114718951967>,\n",
              " <tf.Tensor: shape=(), dtype=float64, numpy=7.075271031858104>,\n",
              " <tf.Tensor: shape=(), dtype=float64, numpy=6.929847210665271>,\n",
              " <tf.Tensor: shape=(), dtype=float64, numpy=6.951376989842402>,\n",
              " <tf.Tensor: shape=(), dtype=float64, numpy=7.0053618386573975>,\n",
              " <tf.Tensor: shape=(), dtype=float64, numpy=7.0085843543329185>,\n",
              " <tf.Tensor: shape=(), dtype=float64, numpy=6.977211667925491>,\n",
              " <tf.Tensor: shape=(), dtype=float64, numpy=6.936444175940919>,\n",
              " <tf.Tensor: shape=(), dtype=float64, numpy=6.924624973500269>,\n",
              " <tf.Tensor: shape=(), dtype=float64, numpy=7.143453020676431>,\n",
              " <tf.Tensor: shape=(), dtype=float64, numpy=6.956749719824154>,\n",
              " <tf.Tensor: shape=(), dtype=float64, numpy=6.925525484078814>,\n",
              " <tf.Tensor: shape=(), dtype=float64, numpy=6.939182118472891>,\n",
              " <tf.Tensor: shape=(), dtype=float64, numpy=6.972783381620729>,\n",
              " <tf.Tensor: shape=(), dtype=float64, numpy=7.0160779315966035>,\n",
              " <tf.Tensor: shape=(), dtype=float64, numpy=6.933447729984763>,\n",
              " <tf.Tensor: shape=(), dtype=float64, numpy=6.931886271690553>,\n",
              " <tf.Tensor: shape=(), dtype=float64, numpy=6.984659059387848>,\n",
              " <tf.Tensor: shape=(), dtype=float64, numpy=6.930711726151666>,\n",
              " <tf.Tensor: shape=(), dtype=float64, numpy=7.018697889881021>,\n",
              " <tf.Tensor: shape=(), dtype=float64, numpy=6.951888345371024>,\n",
              " <tf.Tensor: shape=(), dtype=float64, numpy=6.927984516061033>,\n",
              " <tf.Tensor: shape=(), dtype=float64, numpy=6.987080593848996>,\n",
              " <tf.Tensor: shape=(), dtype=float64, numpy=6.990457261541343>,\n",
              " <tf.Tensor: shape=(), dtype=float64, numpy=6.939796575035882>,\n",
              " <tf.Tensor: shape=(), dtype=float64, numpy=7.053799637864092>,\n",
              " <tf.Tensor: shape=(), dtype=float64, numpy=6.932530403764212>,\n",
              " <tf.Tensor: shape=(), dtype=float64, numpy=6.938763530061561>,\n",
              " <tf.Tensor: shape=(), dtype=float64, numpy=6.944404959443522>,\n",
              " <tf.Tensor: shape=(), dtype=float64, numpy=6.943947591411684>,\n",
              " <tf.Tensor: shape=(), dtype=float64, numpy=6.963310926263071>,\n",
              " <tf.Tensor: shape=(), dtype=float64, numpy=6.949034925983738>,\n",
              " <tf.Tensor: shape=(), dtype=float64, numpy=6.99287658016749>,\n",
              " <tf.Tensor: shape=(), dtype=float64, numpy=7.044091548581095>,\n",
              " <tf.Tensor: shape=(), dtype=float64, numpy=6.968555311369785>,\n",
              " <tf.Tensor: shape=(), dtype=float64, numpy=6.965295556122969>,\n",
              " <tf.Tensor: shape=(), dtype=float64, numpy=6.991387274702625>,\n",
              " <tf.Tensor: shape=(), dtype=float64, numpy=6.969927596293492>,\n",
              " <tf.Tensor: shape=(), dtype=float64, numpy=6.975986948333078>,\n",
              " <tf.Tensor: shape=(), dtype=float64, numpy=7.0100994036120845>,\n",
              " <tf.Tensor: shape=(), dtype=float64, numpy=6.979232642620821>,\n",
              " <tf.Tensor: shape=(), dtype=float64, numpy=6.968788046902689>,\n",
              " <tf.Tensor: shape=(), dtype=float64, numpy=7.10208447473289>,\n",
              " <tf.Tensor: shape=(), dtype=float64, numpy=6.976270674530571>,\n",
              " <tf.Tensor: shape=(), dtype=float64, numpy=6.960126095583061>,\n",
              " <tf.Tensor: shape=(), dtype=float64, numpy=7.0656783431866375>,\n",
              " <tf.Tensor: shape=(), dtype=float64, numpy=6.932999934435361>,\n",
              " <tf.Tensor: shape=(), dtype=float64, numpy=6.96903924722565>,\n",
              " <tf.Tensor: shape=(), dtype=float64, numpy=6.933140415490106>,\n",
              " <tf.Tensor: shape=(), dtype=float64, numpy=7.034344695603509>,\n",
              " <tf.Tensor: shape=(), dtype=float64, numpy=6.931052130825186>,\n",
              " <tf.Tensor: shape=(), dtype=float64, numpy=6.929678064831615>,\n",
              " <tf.Tensor: shape=(), dtype=float64, numpy=7.0325334309434355>,\n",
              " <tf.Tensor: shape=(), dtype=float64, numpy=6.948339848515237>,\n",
              " <tf.Tensor: shape=(), dtype=float64, numpy=7.066558901594313>,\n",
              " <tf.Tensor: shape=(), dtype=float64, numpy=6.975947775204349>,\n",
              " <tf.Tensor: shape=(), dtype=float64, numpy=6.928030838549412>,\n",
              " <tf.Tensor: shape=(), dtype=float64, numpy=6.950943629573945>,\n",
              " <tf.Tensor: shape=(), dtype=float64, numpy=6.940208083935899>,\n",
              " <tf.Tensor: shape=(), dtype=float64, numpy=7.00483591216399>,\n",
              " <tf.Tensor: shape=(), dtype=float64, numpy=6.955668093263124>,\n",
              " <tf.Tensor: shape=(), dtype=float64, numpy=6.9633505537194855>,\n",
              " <tf.Tensor: shape=(), dtype=float64, numpy=6.952119987783738>,\n",
              " <tf.Tensor: shape=(), dtype=float64, numpy=6.945573595462075>,\n",
              " <tf.Tensor: shape=(), dtype=float64, numpy=6.968966537992237>,\n",
              " <tf.Tensor: shape=(), dtype=float64, numpy=7.101612308635121>,\n",
              " <tf.Tensor: shape=(), dtype=float64, numpy=6.939274554657042>,\n",
              " <tf.Tensor: shape=(), dtype=float64, numpy=6.967779025868472>,\n",
              " <tf.Tensor: shape=(), dtype=float64, numpy=6.983714486422466>,\n",
              " <tf.Tensor: shape=(), dtype=float64, numpy=6.936330428490272>,\n",
              " <tf.Tensor: shape=(), dtype=float64, numpy=7.004955069035939>,\n",
              " <tf.Tensor: shape=(), dtype=float64, numpy=7.026020867286897>,\n",
              " <tf.Tensor: shape=(), dtype=float64, numpy=7.0159251671414244>,\n",
              " <tf.Tensor: shape=(), dtype=float64, numpy=7.054371389756463>,\n",
              " <tf.Tensor: shape=(), dtype=float64, numpy=6.932594655455138>,\n",
              " <tf.Tensor: shape=(), dtype=float64, numpy=6.991430013231507>,\n",
              " <tf.Tensor: shape=(), dtype=float64, numpy=6.941422505726711>,\n",
              " <tf.Tensor: shape=(), dtype=float64, numpy=6.953299302321214>,\n",
              " <tf.Tensor: shape=(), dtype=float64, numpy=7.050668513406507>,\n",
              " <tf.Tensor: shape=(), dtype=float64, numpy=6.936141375253892>,\n",
              " <tf.Tensor: shape=(), dtype=float64, numpy=6.940634408959584>,\n",
              " <tf.Tensor: shape=(), dtype=float64, numpy=6.9468982139752935>,\n",
              " <tf.Tensor: shape=(), dtype=float64, numpy=6.927625171453211>,\n",
              " <tf.Tensor: shape=(), dtype=float64, numpy=6.969409541093073>,\n",
              " <tf.Tensor: shape=(), dtype=float64, numpy=6.937763592195228>,\n",
              " <tf.Tensor: shape=(), dtype=float64, numpy=7.079594185883711>,\n",
              " <tf.Tensor: shape=(), dtype=float64, numpy=6.978221223669409>,\n",
              " <tf.Tensor: shape=(), dtype=float64, numpy=7.108717491029517>,\n",
              " <tf.Tensor: shape=(), dtype=float64, numpy=6.939921258077427>,\n",
              " <tf.Tensor: shape=(), dtype=float64, numpy=7.0672997269639835>,\n",
              " <tf.Tensor: shape=(), dtype=float64, numpy=6.969392001762114>,\n",
              " <tf.Tensor: shape=(), dtype=float64, numpy=6.975057787898336>,\n",
              " <tf.Tensor: shape=(), dtype=float64, numpy=6.9315241049340806>,\n",
              " <tf.Tensor: shape=(), dtype=float64, numpy=6.930299532562397>,\n",
              " <tf.Tensor: shape=(), dtype=float64, numpy=6.986842094010072>,\n",
              " <tf.Tensor: shape=(), dtype=float64, numpy=6.969306129440517>,\n",
              " <tf.Tensor: shape=(), dtype=float64, numpy=7.025699501739843>,\n",
              " <tf.Tensor: shape=(), dtype=float64, numpy=6.937074164040069>,\n",
              " <tf.Tensor: shape=(), dtype=float64, numpy=6.9916701514340005>,\n",
              " <tf.Tensor: shape=(), dtype=float64, numpy=6.98072855195115>,\n",
              " <tf.Tensor: shape=(), dtype=float64, numpy=6.990256451588568>,\n",
              " <tf.Tensor: shape=(), dtype=float64, numpy=6.933526604054869>,\n",
              " <tf.Tensor: shape=(), dtype=float64, numpy=6.937165000734949>,\n",
              " <tf.Tensor: shape=(), dtype=float64, numpy=6.933354047315047>,\n",
              " <tf.Tensor: shape=(), dtype=float64, numpy=7.058450380334094>,\n",
              " <tf.Tensor: shape=(), dtype=float64, numpy=6.954939346890321>]"
            ]
          },
          "metadata": {
            "tags": []
          },
          "execution_count": 69
        }
      ]
    },
    {
      "cell_type": "code",
      "metadata": {
        "id": "lV12utaohtif",
        "colab_type": "code",
        "colab": {}
      },
      "source": [
        ""
      ],
      "execution_count": 0,
      "outputs": []
    }
  ]
}